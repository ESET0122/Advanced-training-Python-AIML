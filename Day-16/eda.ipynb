{
 "cells": [
  {
   "cell_type": "code",
   "execution_count": 2,
   "id": "50c36355",
   "metadata": {},
   "outputs": [],
   "source": [
    "import numpy as np\n",
    "import pandas as pd\n",
    "import matplotlib.pyplot as plt\n",
    "import seaborn as sns"
   ]
  },
  {
   "cell_type": "code",
   "execution_count": 3,
   "id": "cc6222f7",
   "metadata": {},
   "outputs": [],
   "source": [
    "df = pd.read_csv('customerData.csv')"
   ]
  },
  {
   "cell_type": "code",
   "execution_count": 4,
   "id": "18e9bd2b",
   "metadata": {},
   "outputs": [
    {
     "data": {
      "text/html": [
       "<div>\n",
       "<style scoped>\n",
       "    .dataframe tbody tr th:only-of-type {\n",
       "        vertical-align: middle;\n",
       "    }\n",
       "\n",
       "    .dataframe tbody tr th {\n",
       "        vertical-align: top;\n",
       "    }\n",
       "\n",
       "    .dataframe thead th {\n",
       "        text-align: right;\n",
       "    }\n",
       "</style>\n",
       "<table border=\"1\" class=\"dataframe\">\n",
       "  <thead>\n",
       "    <tr style=\"text-align: right;\">\n",
       "      <th></th>\n",
       "      <th>customer_id</th>\n",
       "      <th>age</th>\n",
       "      <th>income</th>\n",
       "      <th>purchase_amount</th>\n",
       "      <th>gender</th>\n",
       "      <th>region</th>\n",
       "      <th>total_purchases</th>\n",
       "      <th>preferred_product_category</th>\n",
       "      <th>customer_loyalty_score</th>\n",
       "      <th>signup_date</th>\n",
       "      <th>last_purchase_date</th>\n",
       "    </tr>\n",
       "  </thead>\n",
       "  <tbody>\n",
       "    <tr>\n",
       "      <th>0</th>\n",
       "      <td>1</td>\n",
       "      <td>56.0</td>\n",
       "      <td>67700.0</td>\n",
       "      <td>1019.145669</td>\n",
       "      <td>Female</td>\n",
       "      <td>South</td>\n",
       "      <td>31.0</td>\n",
       "      <td>Toys</td>\n",
       "      <td>12.501082</td>\n",
       "      <td>2022-05-01</td>\n",
       "      <td>2022-02-27</td>\n",
       "    </tr>\n",
       "    <tr>\n",
       "      <th>1</th>\n",
       "      <td>2</td>\n",
       "      <td>69.0</td>\n",
       "      <td>50200.0</td>\n",
       "      <td>252.214693</td>\n",
       "      <td>Male</td>\n",
       "      <td>North</td>\n",
       "      <td>27.0</td>\n",
       "      <td>Toys</td>\n",
       "      <td>14.402036</td>\n",
       "      <td>2022-03-14</td>\n",
       "      <td>2022-07-03</td>\n",
       "    </tr>\n",
       "    <tr>\n",
       "      <th>2</th>\n",
       "      <td>3</td>\n",
       "      <td>46.0</td>\n",
       "      <td>84000.0</td>\n",
       "      <td>354.742321</td>\n",
       "      <td>Male</td>\n",
       "      <td>East</td>\n",
       "      <td>25.0</td>\n",
       "      <td>Clothing</td>\n",
       "      <td>89.085761</td>\n",
       "      <td>2022-07-17</td>\n",
       "      <td>2022-04-13</td>\n",
       "    </tr>\n",
       "    <tr>\n",
       "      <th>3</th>\n",
       "      <td>4</td>\n",
       "      <td>32.0</td>\n",
       "      <td>42700.0</td>\n",
       "      <td>716.573913</td>\n",
       "      <td>Male</td>\n",
       "      <td>West</td>\n",
       "      <td>5.0</td>\n",
       "      <td>Electronics</td>\n",
       "      <td>98.800804</td>\n",
       "      <td>2022-07-09</td>\n",
       "      <td>2021-04-21</td>\n",
       "    </tr>\n",
       "    <tr>\n",
       "      <th>4</th>\n",
       "      <td>5</td>\n",
       "      <td>60.0</td>\n",
       "      <td>112300.0</td>\n",
       "      <td>1528.118235</td>\n",
       "      <td>Female</td>\n",
       "      <td>West</td>\n",
       "      <td>6.0</td>\n",
       "      <td>Clothing</td>\n",
       "      <td>28.893785</td>\n",
       "      <td>2021-04-21</td>\n",
       "      <td>2021-06-02</td>\n",
       "    </tr>\n",
       "  </tbody>\n",
       "</table>\n",
       "</div>"
      ],
      "text/plain": [
       "   customer_id   age    income  purchase_amount  gender region  \\\n",
       "0            1  56.0   67700.0      1019.145669  Female  South   \n",
       "1            2  69.0   50200.0       252.214693    Male  North   \n",
       "2            3  46.0   84000.0       354.742321    Male   East   \n",
       "3            4  32.0   42700.0       716.573913    Male   West   \n",
       "4            5  60.0  112300.0      1528.118235  Female   West   \n",
       "\n",
       "   total_purchases preferred_product_category  customer_loyalty_score  \\\n",
       "0             31.0                       Toys               12.501082   \n",
       "1             27.0                       Toys               14.402036   \n",
       "2             25.0                   Clothing               89.085761   \n",
       "3              5.0                Electronics               98.800804   \n",
       "4              6.0                   Clothing               28.893785   \n",
       "\n",
       "  signup_date last_purchase_date  \n",
       "0  2022-05-01         2022-02-27  \n",
       "1  2022-03-14         2022-07-03  \n",
       "2  2022-07-17         2022-04-13  \n",
       "3  2022-07-09         2021-04-21  \n",
       "4  2021-04-21         2021-06-02  "
      ]
     },
     "execution_count": 4,
     "metadata": {},
     "output_type": "execute_result"
    }
   ],
   "source": [
    "df.head()"
   ]
  },
  {
   "cell_type": "code",
   "execution_count": 6,
   "id": "8be5063a",
   "metadata": {},
   "outputs": [
    {
     "data": {
      "text/html": [
       "<div>\n",
       "<style scoped>\n",
       "    .dataframe tbody tr th:only-of-type {\n",
       "        vertical-align: middle;\n",
       "    }\n",
       "\n",
       "    .dataframe tbody tr th {\n",
       "        vertical-align: top;\n",
       "    }\n",
       "\n",
       "    .dataframe thead th {\n",
       "        text-align: right;\n",
       "    }\n",
       "</style>\n",
       "<table border=\"1\" class=\"dataframe\">\n",
       "  <thead>\n",
       "    <tr style=\"text-align: right;\">\n",
       "      <th></th>\n",
       "      <th>customer_id</th>\n",
       "      <th>age</th>\n",
       "      <th>income</th>\n",
       "      <th>purchase_amount</th>\n",
       "      <th>total_purchases</th>\n",
       "      <th>customer_loyalty_score</th>\n",
       "    </tr>\n",
       "  </thead>\n",
       "  <tbody>\n",
       "    <tr>\n",
       "      <th>count</th>\n",
       "      <td>3526.000000</td>\n",
       "      <td>3520.000000</td>\n",
       "      <td>3.520000e+03</td>\n",
       "      <td>3520.000000</td>\n",
       "      <td>3520.000000</td>\n",
       "      <td>3521.000000</td>\n",
       "    </tr>\n",
       "    <tr>\n",
       "      <th>mean</th>\n",
       "      <td>1738.398469</td>\n",
       "      <td>49.116477</td>\n",
       "      <td>7.469136e+04</td>\n",
       "      <td>1358.011839</td>\n",
       "      <td>33.310227</td>\n",
       "      <td>62.114247</td>\n",
       "    </tr>\n",
       "    <tr>\n",
       "      <th>std</th>\n",
       "      <td>1005.277859</td>\n",
       "      <td>20.667920</td>\n",
       "      <td>1.910293e+05</td>\n",
       "      <td>10258.540297</td>\n",
       "      <td>264.613324</td>\n",
       "      <td>359.620617</td>\n",
       "    </tr>\n",
       "    <tr>\n",
       "      <th>min</th>\n",
       "      <td>1.000000</td>\n",
       "      <td>-20.000000</td>\n",
       "      <td>-5.000000e+04</td>\n",
       "      <td>-10000.000000</td>\n",
       "      <td>-1000.000000</td>\n",
       "      <td>-999.000000</td>\n",
       "    </tr>\n",
       "    <tr>\n",
       "      <th>25%</th>\n",
       "      <td>867.250000</td>\n",
       "      <td>33.000000</td>\n",
       "      <td>4.410000e+04</td>\n",
       "      <td>515.449662</td>\n",
       "      <td>13.000000</td>\n",
       "      <td>24.275087</td>\n",
       "    </tr>\n",
       "    <tr>\n",
       "      <th>50%</th>\n",
       "      <td>1739.500000</td>\n",
       "      <td>49.000000</td>\n",
       "      <td>6.950000e+04</td>\n",
       "      <td>1008.401544</td>\n",
       "      <td>24.000000</td>\n",
       "      <td>49.629709</td>\n",
       "    </tr>\n",
       "    <tr>\n",
       "      <th>75%</th>\n",
       "      <td>2608.750000</td>\n",
       "      <td>64.000000</td>\n",
       "      <td>9.590000e+04</td>\n",
       "      <td>1494.622453</td>\n",
       "      <td>37.000000</td>\n",
       "      <td>74.338581</td>\n",
       "    </tr>\n",
       "    <tr>\n",
       "      <th>max</th>\n",
       "      <td>3476.000000</td>\n",
       "      <td>500.000000</td>\n",
       "      <td>9.999999e+06</td>\n",
       "      <td>500000.000000</td>\n",
       "      <td>10000.000000</td>\n",
       "      <td>15000.000000</td>\n",
       "    </tr>\n",
       "  </tbody>\n",
       "</table>\n",
       "</div>"
      ],
      "text/plain": [
       "       customer_id          age        income  purchase_amount  \\\n",
       "count  3526.000000  3520.000000  3.520000e+03      3520.000000   \n",
       "mean   1738.398469    49.116477  7.469136e+04      1358.011839   \n",
       "std    1005.277859    20.667920  1.910293e+05     10258.540297   \n",
       "min       1.000000   -20.000000 -5.000000e+04    -10000.000000   \n",
       "25%     867.250000    33.000000  4.410000e+04       515.449662   \n",
       "50%    1739.500000    49.000000  6.950000e+04      1008.401544   \n",
       "75%    2608.750000    64.000000  9.590000e+04      1494.622453   \n",
       "max    3476.000000   500.000000  9.999999e+06    500000.000000   \n",
       "\n",
       "       total_purchases  customer_loyalty_score  \n",
       "count      3520.000000             3521.000000  \n",
       "mean         33.310227               62.114247  \n",
       "std         264.613324              359.620617  \n",
       "min       -1000.000000             -999.000000  \n",
       "25%          13.000000               24.275087  \n",
       "50%          24.000000               49.629709  \n",
       "75%          37.000000               74.338581  \n",
       "max       10000.000000            15000.000000  "
      ]
     },
     "execution_count": 6,
     "metadata": {},
     "output_type": "execute_result"
    }
   ],
   "source": [
    "df.describe()"
   ]
  },
  {
   "cell_type": "code",
   "execution_count": 9,
   "id": "d2e12869",
   "metadata": {},
   "outputs": [
    {
     "data": {
      "text/plain": [
       "customer_id                     int64\n",
       "age                           float64\n",
       "income                        float64\n",
       "purchase_amount               float64\n",
       "gender                         object\n",
       "region                         object\n",
       "total_purchases               float64\n",
       "preferred_product_category     object\n",
       "customer_loyalty_score        float64\n",
       "signup_date                    object\n",
       "last_purchase_date             object\n",
       "dtype: object"
      ]
     },
     "execution_count": 9,
     "metadata": {},
     "output_type": "execute_result"
    }
   ],
   "source": [
    "df.dtypes"
   ]
  },
  {
   "cell_type": "code",
   "execution_count": 12,
   "id": "d1a108a2",
   "metadata": {},
   "outputs": [
    {
     "name": "stdout",
     "output_type": "stream",
     "text": [
      "Missing values:  customer_id                   0\n",
      "age                           6\n",
      "income                        6\n",
      "purchase_amount               6\n",
      "gender                        7\n",
      "region                        6\n",
      "total_purchases               6\n",
      "preferred_product_category    8\n",
      "customer_loyalty_score        5\n",
      "signup_date                   6\n",
      "last_purchase_date            6\n",
      "dtype: int64\n",
      "Duplicates:  50\n"
     ]
    }
   ],
   "source": [
    "print(\"Missing values: \",df.isna().sum())\n",
    "print(\"Duplicates: \",df.duplicated().sum())"
   ]
  },
  {
   "cell_type": "code",
   "execution_count": 17,
   "id": "4b5c235f",
   "metadata": {},
   "outputs": [],
   "source": [
    "df['age'] = pd.to_numeric(df['age'], errors='coerce')\n",
    "df['income'] = pd.to_numeric(df['income'], errors='coerce')\n",
    "df.drop_duplicates(inplace=True)\n",
    "\n",
    "\n"
   ]
  },
  {
   "cell_type": "code",
   "execution_count": 18,
   "id": "5d81fe3b",
   "metadata": {},
   "outputs": [
    {
     "name": "stdout",
     "output_type": "stream",
     "text": [
      "0\n",
      "0\n"
     ]
    }
   ],
   "source": [
    "dup_customerid = df[\"customer_id\"].duplicated(keep=False).sum()\n",
    "dup_rows = int(df.duplicated(keep=False).sum())\n",
    "print(dup_customerid)\n",
    "print(dup_rows)"
   ]
  },
  {
   "cell_type": "code",
   "execution_count": 19,
   "id": "8c4b34f9",
   "metadata": {},
   "outputs": [],
   "source": [
    "df = df[(df[\"age\"] >= 18) & (df[\"age\"] <= 80)]"
   ]
  },
  {
   "cell_type": "code",
   "execution_count": 24,
   "id": "c7d0f538",
   "metadata": {},
   "outputs": [
    {
     "data": {
      "text/html": [
       "<div>\n",
       "<style scoped>\n",
       "    .dataframe tbody tr th:only-of-type {\n",
       "        vertical-align: middle;\n",
       "    }\n",
       "\n",
       "    .dataframe tbody tr th {\n",
       "        vertical-align: top;\n",
       "    }\n",
       "\n",
       "    .dataframe thead th {\n",
       "        text-align: right;\n",
       "    }\n",
       "</style>\n",
       "<table border=\"1\" class=\"dataframe\">\n",
       "  <thead>\n",
       "    <tr style=\"text-align: right;\">\n",
       "      <th></th>\n",
       "      <th>customer_id</th>\n",
       "      <th>age</th>\n",
       "      <th>income</th>\n",
       "      <th>purchase_amount</th>\n",
       "      <th>total_purchases</th>\n",
       "      <th>customer_loyalty_score</th>\n",
       "    </tr>\n",
       "  </thead>\n",
       "  <tbody>\n",
       "    <tr>\n",
       "      <th>count</th>\n",
       "      <td>3460.000000</td>\n",
       "      <td>3460.000000</td>\n",
       "      <td>3.454000e+03</td>\n",
       "      <td>3454.000000</td>\n",
       "      <td>3454.000000</td>\n",
       "      <td>3455.000000</td>\n",
       "    </tr>\n",
       "    <tr>\n",
       "      <th>mean</th>\n",
       "      <td>1738.265029</td>\n",
       "      <td>48.741040</td>\n",
       "      <td>7.467588e+04</td>\n",
       "      <td>1365.795748</td>\n",
       "      <td>33.529820</td>\n",
       "      <td>62.018838</td>\n",
       "    </tr>\n",
       "    <tr>\n",
       "      <th>std</th>\n",
       "      <td>1003.579677</td>\n",
       "      <td>17.957307</td>\n",
       "      <td>1.928038e+05</td>\n",
       "      <td>10355.714590</td>\n",
       "      <td>267.118875</td>\n",
       "      <td>362.668217</td>\n",
       "    </tr>\n",
       "    <tr>\n",
       "      <th>min</th>\n",
       "      <td>1.000000</td>\n",
       "      <td>18.000000</td>\n",
       "      <td>-5.000000e+04</td>\n",
       "      <td>-10000.000000</td>\n",
       "      <td>-1000.000000</td>\n",
       "      <td>-999.000000</td>\n",
       "    </tr>\n",
       "    <tr>\n",
       "      <th>25%</th>\n",
       "      <td>868.750000</td>\n",
       "      <td>33.000000</td>\n",
       "      <td>4.400000e+04</td>\n",
       "      <td>514.387051</td>\n",
       "      <td>13.000000</td>\n",
       "      <td>24.138323</td>\n",
       "    </tr>\n",
       "    <tr>\n",
       "      <th>50%</th>\n",
       "      <td>1738.500000</td>\n",
       "      <td>49.000000</td>\n",
       "      <td>6.930000e+04</td>\n",
       "      <td>1008.880715</td>\n",
       "      <td>24.000000</td>\n",
       "      <td>49.472350</td>\n",
       "    </tr>\n",
       "    <tr>\n",
       "      <th>75%</th>\n",
       "      <td>2606.250000</td>\n",
       "      <td>64.000000</td>\n",
       "      <td>9.577500e+04</td>\n",
       "      <td>1496.476759</td>\n",
       "      <td>37.000000</td>\n",
       "      <td>74.368876</td>\n",
       "    </tr>\n",
       "    <tr>\n",
       "      <th>max</th>\n",
       "      <td>3476.000000</td>\n",
       "      <td>79.000000</td>\n",
       "      <td>9.999999e+06</td>\n",
       "      <td>500000.000000</td>\n",
       "      <td>10000.000000</td>\n",
       "      <td>15000.000000</td>\n",
       "    </tr>\n",
       "  </tbody>\n",
       "</table>\n",
       "</div>"
      ],
      "text/plain": [
       "       customer_id          age        income  purchase_amount  \\\n",
       "count  3460.000000  3460.000000  3.454000e+03      3454.000000   \n",
       "mean   1738.265029    48.741040  7.467588e+04      1365.795748   \n",
       "std    1003.579677    17.957307  1.928038e+05     10355.714590   \n",
       "min       1.000000    18.000000 -5.000000e+04    -10000.000000   \n",
       "25%     868.750000    33.000000  4.400000e+04       514.387051   \n",
       "50%    1738.500000    49.000000  6.930000e+04      1008.880715   \n",
       "75%    2606.250000    64.000000  9.577500e+04      1496.476759   \n",
       "max    3476.000000    79.000000  9.999999e+06    500000.000000   \n",
       "\n",
       "       total_purchases  customer_loyalty_score  \n",
       "count      3454.000000             3455.000000  \n",
       "mean         33.529820               62.018838  \n",
       "std         267.118875              362.668217  \n",
       "min       -1000.000000             -999.000000  \n",
       "25%          13.000000               24.138323  \n",
       "50%          24.000000               49.472350  \n",
       "75%          37.000000               74.368876  \n",
       "max       10000.000000            15000.000000  "
      ]
     },
     "execution_count": 24,
     "metadata": {},
     "output_type": "execute_result"
    }
   ],
   "source": [
    "df.describe()"
   ]
  },
  {
   "cell_type": "code",
   "execution_count": 23,
   "id": "21424ea2",
   "metadata": {},
   "outputs": [
    {
     "name": "stdout",
     "output_type": "stream",
     "text": [
      "region\n",
      "West        897\n",
      "South       889\n",
      "North       836\n",
      "East        822\n",
      "Invalid       1\n",
      "Unknown       1\n",
      "Space         1\n",
      "Void          1\n",
      "Moon          1\n",
      "Pluto         1\n",
      "123           1\n",
      "Atlantis      1\n",
      "Test          1\n",
      "Mars          1\n",
      "Name: count, dtype: int64\n"
     ]
    }
   ],
   "source": [
    "print(df[\"region\"].value_counts()) "
   ]
  },
  {
   "cell_type": "code",
   "execution_count": 25,
   "id": "0b0b23c2",
   "metadata": {},
   "outputs": [],
   "source": [
    "valid_regions = [\"North\", \"South\", \"East\", \"West\"]\n",
    "df = df[df[\"region\"].isin(valid_regions)]\n"
   ]
  },
  {
   "cell_type": "code",
   "execution_count": 26,
   "id": "7087b8b8",
   "metadata": {},
   "outputs": [
    {
     "name": "stdout",
     "output_type": "stream",
     "text": [
      "region\n",
      "West     897\n",
      "South    889\n",
      "North    836\n",
      "East     822\n",
      "Name: count, dtype: int64\n"
     ]
    }
   ],
   "source": [
    "print(df[\"region\"].value_counts()) "
   ]
  },
  {
   "cell_type": "code",
   "execution_count": 27,
   "id": "96dba644",
   "metadata": {},
   "outputs": [
    {
     "data": {
      "text/plain": [
       "(3444, 11)"
      ]
     },
     "execution_count": 27,
     "metadata": {},
     "output_type": "execute_result"
    }
   ],
   "source": [
    "df.shape"
   ]
  },
  {
   "cell_type": "code",
   "execution_count": 29,
   "id": "66d04c7c",
   "metadata": {},
   "outputs": [],
   "source": [
    "df.dropna(inplace=True)"
   ]
  },
  {
   "cell_type": "code",
   "execution_count": 30,
   "id": "e88bd00b",
   "metadata": {},
   "outputs": [
    {
     "data": {
      "text/plain": [
       "(3396, 11)"
      ]
     },
     "execution_count": 30,
     "metadata": {},
     "output_type": "execute_result"
    }
   ],
   "source": [
    "df.shape"
   ]
  },
  {
   "cell_type": "code",
   "execution_count": 33,
   "id": "7d8b3e94",
   "metadata": {},
   "outputs": [
    {
     "name": "stdout",
     "output_type": "stream",
     "text": [
      "<class 'pandas.core.frame.DataFrame'>\n",
      "Index: 3396 entries, 0 to 3475\n",
      "Data columns (total 11 columns):\n",
      " #   Column                      Non-Null Count  Dtype  \n",
      "---  ------                      --------------  -----  \n",
      " 0   customer_id                 3396 non-null   int64  \n",
      " 1   age                         3396 non-null   float64\n",
      " 2   income                      3396 non-null   float64\n",
      " 3   purchase_amount             3396 non-null   float64\n",
      " 4   gender                      3396 non-null   object \n",
      " 5   region                      3396 non-null   object \n",
      " 6   total_purchases             3396 non-null   float64\n",
      " 7   preferred_product_category  3396 non-null   object \n",
      " 8   customer_loyalty_score      3396 non-null   float64\n",
      " 9   signup_date                 3396 non-null   object \n",
      " 10  last_purchase_date          3396 non-null   object \n",
      "dtypes: float64(5), int64(1), object(5)\n",
      "memory usage: 318.4+ KB\n"
     ]
    }
   ],
   "source": [
    "df.info()"
   ]
  },
  {
   "cell_type": "code",
   "execution_count": 34,
   "id": "aff4dd3d",
   "metadata": {},
   "outputs": [],
   "source": [
    "df['signup_date'] = pd.to_datetime(df['signup_date'],errors='coerce')"
   ]
  },
  {
   "cell_type": "code",
   "execution_count": 35,
   "id": "4de82a0a",
   "metadata": {},
   "outputs": [],
   "source": [
    "df['last_purchase_date'] = pd.to_datetime(df['last_purchase_date'],errors='coerce')"
   ]
  },
  {
   "cell_type": "code",
   "execution_count": 36,
   "id": "4da0c9f0",
   "metadata": {},
   "outputs": [
    {
     "data": {
      "text/plain": [
       "preferred_product_category\n",
       "Clothing         715\n",
       "Electronics      706\n",
       "Home & Garden    660\n",
       "Health           658\n",
       "Toys             649\n",
       "Test               1\n",
       "Invalid            1\n",
       "Alien              1\n",
       "Unknown            1\n",
       "Food               1\n",
       "Null               1\n",
       "999                1\n",
       "Space              1\n",
       "Name: count, dtype: int64"
      ]
     },
     "execution_count": 36,
     "metadata": {},
     "output_type": "execute_result"
    }
   ],
   "source": [
    "df['preferred_product_category'].value_counts()"
   ]
  },
  {
   "cell_type": "code",
   "execution_count": 38,
   "id": "6a9d4451",
   "metadata": {},
   "outputs": [],
   "source": [
    "valid_product_categories = ['Clothing','Electronics','Home & Garden','Health','Toys']\n",
    "df = df[df['preferred_product_category'].isin(valid_product_categories)]"
   ]
  },
  {
   "cell_type": "code",
   "execution_count": 39,
   "id": "68cdaa2e",
   "metadata": {},
   "outputs": [
    {
     "data": {
      "text/plain": [
       "(3388, 11)"
      ]
     },
     "execution_count": 39,
     "metadata": {},
     "output_type": "execute_result"
    }
   ],
   "source": [
    "df.shape"
   ]
  },
  {
   "cell_type": "code",
   "execution_count": 41,
   "id": "f219f3b6",
   "metadata": {},
   "outputs": [],
   "source": [
    "df = df[(df[\"income\"] >= 20000) & (df[\"income\"] <= 120000)]"
   ]
  },
  {
   "cell_type": "code",
   "execution_count": 42,
   "id": "9d959467",
   "metadata": {},
   "outputs": [],
   "source": [
    "df[\"income\"] = df[\"income\"].round(-2)\n"
   ]
  },
  {
   "cell_type": "code",
   "execution_count": 43,
   "id": "8e741136",
   "metadata": {},
   "outputs": [],
   "source": [
    "df = df[(df[\"purchase_amount\"] >= 20) & (df[\"purchase_amount\"] <= 20000)]"
   ]
  },
  {
   "cell_type": "code",
   "execution_count": null,
   "id": "9e6fae38",
   "metadata": {},
   "outputs": [
    {
     "data": {
      "text/plain": [
       "(3363, 11)"
      ]
     },
     "execution_count": 44,
     "metadata": {},
     "output_type": "execute_result"
    }
   ],
   "source": []
  },
  {
   "cell_type": "code",
   "execution_count": null,
   "id": "e1f05544",
   "metadata": {},
   "outputs": [
    {
     "data": {
      "text/plain": [
       "gender\n",
       "Male          1706\n",
       "Female        1648\n",
       "Non-binary       1\n",
       "Null             1\n",
       "Unknown          1\n",
       "123              1\n",
       "0                1\n",
       "                 1\n",
       "999              1\n",
       "Invalid          1\n",
       "Alien            1\n",
       "Name: count, dtype: int64"
      ]
     },
     "execution_count": 46,
     "metadata": {},
     "output_type": "execute_result"
    }
   ],
   "source": [
    "df['gender'].value_counts()"
   ]
  },
  {
   "cell_type": "code",
   "execution_count": 48,
   "id": "0bbe2e1f",
   "metadata": {},
   "outputs": [],
   "source": [
    "valid_gender = ['Male','Female']\n",
    "df = df[df['gender'].isin(valid_gender)]"
   ]
  },
  {
   "cell_type": "code",
   "execution_count": 49,
   "id": "4ba5dd4f",
   "metadata": {},
   "outputs": [
    {
     "data": {
      "text/plain": [
       "gender\n",
       "Male      1706\n",
       "Female    1648\n",
       "Name: count, dtype: int64"
      ]
     },
     "execution_count": 49,
     "metadata": {},
     "output_type": "execute_result"
    }
   ],
   "source": [
    "df['gender'].value_counts()"
   ]
  },
  {
   "cell_type": "code",
   "execution_count": 54,
   "id": "94bbcaa8",
   "metadata": {},
   "outputs": [
    {
     "data": {
      "text/plain": [
       "(3324, 11)"
      ]
     },
     "execution_count": 54,
     "metadata": {},
     "output_type": "execute_result"
    }
   ],
   "source": [
    "df.shape"
   ]
  },
  {
   "cell_type": "code",
   "execution_count": 51,
   "id": "d9d798f3",
   "metadata": {},
   "outputs": [],
   "source": [
    "df = df[(df['total_purchases'] >= 1) & (df['total_purchases'] <= 50)]"
   ]
  },
  {
   "cell_type": "code",
   "execution_count": 53,
   "id": "ce8a0209",
   "metadata": {},
   "outputs": [],
   "source": [
    "df = df[(df['customer_loyalty_score'] >= 0) & (df['customer_loyalty_score'] <= 100)]"
   ]
  },
  {
   "cell_type": "code",
   "execution_count": 55,
   "id": "9dd0205f",
   "metadata": {},
   "outputs": [
    {
     "name": "stdout",
     "output_type": "stream",
     "text": [
      "Invalid signup dates: 0\n"
     ]
    }
   ],
   "source": [
    "mask_signup = (df[\"signup_date\"] >= \"2021-01-01\") & (df[\"signup_date\"] <= \"2022-12-31\")\n",
    "invalid_signup = df[~mask_signup]\n",
    "print(f\"Invalid signup dates: {len(invalid_signup)}\")\n"
   ]
  },
  {
   "cell_type": "code",
   "execution_count": 56,
   "id": "cd92f99c",
   "metadata": {},
   "outputs": [
    {
     "name": "stdout",
     "output_type": "stream",
     "text": [
      "Rows where last_purchase_date < signup_date: 1093\n"
     ]
    }
   ],
   "source": [
    "invalid_order = df[df[\"last_purchase_date\"] < df[\"signup_date\"]]\n",
    "print(f\"Rows where last_purchase_date < signup_date: {len(invalid_order)}\")\n"
   ]
  },
  {
   "cell_type": "code",
   "execution_count": 57,
   "id": "95b65f5a",
   "metadata": {},
   "outputs": [],
   "source": [
    "df.to_csv('cleaned_data.csv')"
   ]
  },
  {
   "cell_type": "code",
   "execution_count": 58,
   "id": "98818b8d",
   "metadata": {},
   "outputs": [
    {
     "data": {
      "image/png": "[encoded data removed]",
      "text/plain": [
       "<Figure size 640x480 with 1 Axes>"
      ]
     },
     "metadata": {},
     "output_type": "display_data"
    }
   ],
   "source": [
    "df[\"age\"].hist()\n",
    "plt.title(\"Age Distribution\")\n",
    "plt.show()"
   ]
  },
  {
   "cell_type": "code",
   "execution_count": 60,
   "id": "1f1bfd6f",
   "metadata": {},
   "outputs": [
    {
     "data": {
      "image/png": "[encoded data removed]",
      "text/plain": [
       "<Figure size 640x480 with 1 Axes>"
      ]
     },
     "metadata": {},
     "output_type": "display_data"
    }
   ],
   "source": [
    "plt.scatter(df[\"age\"], df[\"purchase_amount\"])\n",
    "plt.xlabel(\"Age\")\n",
    "plt.ylabel(\"Purchase Amount\")\n",
    "plt.title(\"Age vs Purchase Amount\")\n",
    "plt.show()\n"
   ]
  },
  {
   "cell_type": "code",
   "execution_count": 69,
   "id": "0bcb92fe",
   "metadata": {},
   "outputs": [
    {
     "data": {
      "image/png": "[encoded data removed]",
      "text/plain": [
       "<Figure size 640x480 with 1 Axes>"
      ]
     },
     "metadata": {},
     "output_type": "display_data"
    }
   ],
   "source": [
    "plt.scatter(df['income'],df['purchase_amount'])\n",
    "plt.xlabel(\"Income\")\n",
    "plt.ylabel(\"Purchase Amount\")\n",
    "plt.title(\"Income vs Purchase Amount\")\n",
    "plt.show()"
   ]
  },
  {
   "cell_type": "code",
   "execution_count": 64,
   "id": "dc169183",
   "metadata": {},
   "outputs": [
    {
     "data": {
      "text/html": [
       "<div>\n",
       "<style scoped>\n",
       "    .dataframe tbody tr th:only-of-type {\n",
       "        vertical-align: middle;\n",
       "    }\n",
       "\n",
       "    .dataframe tbody tr th {\n",
       "        vertical-align: top;\n",
       "    }\n",
       "\n",
       "    .dataframe thead th {\n",
       "        text-align: right;\n",
       "    }\n",
       "</style>\n",
       "<table border=\"1\" class=\"dataframe\">\n",
       "  <thead>\n",
       "    <tr style=\"text-align: right;\">\n",
       "      <th></th>\n",
       "      <th>age</th>\n",
       "      <th>income</th>\n",
       "      <th>purchase_amount</th>\n",
       "      <th>total_purchases</th>\n",
       "      <th>customer_loyalty_score</th>\n",
       "    </tr>\n",
       "  </thead>\n",
       "  <tbody>\n",
       "    <tr>\n",
       "      <th>age</th>\n",
       "      <td>1.000000</td>\n",
       "      <td>0.010011</td>\n",
       "      <td>0.003662</td>\n",
       "      <td>0.007143</td>\n",
       "      <td>0.008750</td>\n",
       "    </tr>\n",
       "    <tr>\n",
       "      <th>income</th>\n",
       "      <td>0.010011</td>\n",
       "      <td>1.000000</td>\n",
       "      <td>0.007813</td>\n",
       "      <td>0.013663</td>\n",
       "      <td>-0.011080</td>\n",
       "    </tr>\n",
       "    <tr>\n",
       "      <th>purchase_amount</th>\n",
       "      <td>0.003662</td>\n",
       "      <td>0.007813</td>\n",
       "      <td>1.000000</td>\n",
       "      <td>0.002888</td>\n",
       "      <td>0.016265</td>\n",
       "    </tr>\n",
       "    <tr>\n",
       "      <th>total_purchases</th>\n",
       "      <td>0.007143</td>\n",
       "      <td>0.013663</td>\n",
       "      <td>0.002888</td>\n",
       "      <td>1.000000</td>\n",
       "      <td>-0.009995</td>\n",
       "    </tr>\n",
       "    <tr>\n",
       "      <th>customer_loyalty_score</th>\n",
       "      <td>0.008750</td>\n",
       "      <td>-0.011080</td>\n",
       "      <td>0.016265</td>\n",
       "      <td>-0.009995</td>\n",
       "      <td>1.000000</td>\n",
       "    </tr>\n",
       "  </tbody>\n",
       "</table>\n",
       "</div>"
      ],
      "text/plain": [
       "                             age    income  purchase_amount  total_purchases  \\\n",
       "age                     1.000000  0.010011         0.003662         0.007143   \n",
       "income                  0.010011  1.000000         0.007813         0.013663   \n",
       "purchase_amount         0.003662  0.007813         1.000000         0.002888   \n",
       "total_purchases         0.007143  0.013663         0.002888         1.000000   \n",
       "customer_loyalty_score  0.008750 -0.011080         0.016265        -0.009995   \n",
       "\n",
       "                        customer_loyalty_score  \n",
       "age                                   0.008750  \n",
       "income                               -0.011080  \n",
       "purchase_amount                       0.016265  \n",
       "total_purchases                      -0.009995  \n",
       "customer_loyalty_score                1.000000  "
      ]
     },
     "execution_count": 64,
     "metadata": {},
     "output_type": "execute_result"
    }
   ],
   "source": [
    "corr = df.drop(columns='customer_id').select_dtypes(include=[\"number\"]).corr()\n",
    "corr"
   ]
  },
  {
   "cell_type": "code",
   "execution_count": 67,
   "id": "543b9138",
   "metadata": {},
   "outputs": [
    {
     "data": {
      "image/png": "[encoded data removed]",
      "text/plain": [
       "<Figure size 1000x600 with 2 Axes>"
      ]
     },
     "metadata": {},
     "output_type": "display_data"
    }
   ],
   "source": [
    "plt.figure(figsize=(10, 6))\n",
    "sns.heatmap(corr, annot=True, cmap='coolwarm', fmt=\".2f\")\n",
    "plt.title(\"Correlation Matrix (Numeric Columns Only)\")\n",
    "plt.show()"
   ]
  },
  {
   "cell_type": "code",
   "execution_count": 68,
   "id": "5a00c64d",
   "metadata": {},
   "outputs": [
    {
     "data": {
      "image/png": "[encoded data removed]",
      "text/plain": [
       "<Figure size 640x480 with 1 Axes>"
      ]
     },
     "metadata": {},
     "output_type": "display_data"
    }
   ],
   "source": [
    "monthly_signups = df.groupby(df[\"signup_date\"].dt.to_period(\"M\")).size()\n",
    "monthly_signups.plot(kind=\"bar\")\n",
    "plt.title(\"Signups per Month\")\n",
    "plt.show()\n"
   ]
  },
  {
   "cell_type": "code",
   "execution_count": null,
   "id": "67f95eb3",
   "metadata": {},
   "outputs": [
    {
     "data": {
      "text/html": [
       "<div>\n",
       "<style scoped>\n",
       "    .dataframe tbody tr th:only-of-type {\n",
       "        vertical-align: middle;\n",
       "    }\n",
       "\n",
       "    .dataframe tbody tr th {\n",
       "        vertical-align: top;\n",
       "    }\n",
       "\n",
       "    .dataframe thead th {\n",
       "        text-align: right;\n",
       "    }\n",
       "</style>\n",
       "<table border=\"1\" class=\"dataframe\">\n",
       "  <thead>\n",
       "    <tr style=\"text-align: right;\">\n",
       "      <th></th>\n",
       "      <th>customer_id</th>\n",
       "      <th>age</th>\n",
       "      <th>income</th>\n",
       "      <th>purchase_amount</th>\n",
       "      <th>gender</th>\n",
       "      <th>region</th>\n",
       "      <th>total_purchases</th>\n",
       "      <th>preferred_product_category</th>\n",
       "      <th>customer_loyalty_score</th>\n",
       "      <th>signup_date</th>\n",
       "      <th>last_purchase_date</th>\n",
       "    </tr>\n",
       "  </thead>\n",
       "  <tbody>\n",
       "    <tr>\n",
       "      <th>0</th>\n",
       "      <td>1</td>\n",
       "      <td>56.0</td>\n",
       "      <td>67700.0</td>\n",
       "      <td>1019.145669</td>\n",
       "      <td>Female</td>\n",
       "      <td>South</td>\n",
       "      <td>31.0</td>\n",
       "      <td>Toys</td>\n",
       "      <td>12.501082</td>\n",
       "      <td>2022-05-01</td>\n",
       "      <td>2022-02-27</td>\n",
       "    </tr>\n",
       "    <tr>\n",
       "      <th>1</th>\n",
       "      <td>2</td>\n",
       "      <td>69.0</td>\n",
       "      <td>50200.0</td>\n",
       "      <td>252.214693</td>\n",
       "      <td>Male</td>\n",
       "      <td>North</td>\n",
       "      <td>27.0</td>\n",
       "      <td>Toys</td>\n",
       "      <td>14.402036</td>\n",
       "      <td>2022-03-14</td>\n",
       "      <td>2022-07-03</td>\n",
       "    </tr>\n",
       "    <tr>\n",
       "      <th>2</th>\n",
       "      <td>3</td>\n",
       "      <td>46.0</td>\n",
       "      <td>84000.0</td>\n",
       "      <td>354.742321</td>\n",
       "      <td>Male</td>\n",
       "      <td>East</td>\n",
       "      <td>25.0</td>\n",
       "      <td>Clothing</td>\n",
       "      <td>89.085761</td>\n",
       "      <td>2022-07-17</td>\n",
       "      <td>2022-04-13</td>\n",
       "    </tr>\n",
       "    <tr>\n",
       "      <th>3</th>\n",
       "      <td>4</td>\n",
       "      <td>32.0</td>\n",
       "      <td>42700.0</td>\n",
       "      <td>716.573913</td>\n",
       "      <td>Male</td>\n",
       "      <td>West</td>\n",
       "      <td>5.0</td>\n",
       "      <td>Electronics</td>\n",
       "      <td>98.800804</td>\n",
       "      <td>2022-07-09</td>\n",
       "      <td>2021-04-21</td>\n",
       "    </tr>\n",
       "    <tr>\n",
       "      <th>4</th>\n",
       "      <td>5</td>\n",
       "      <td>60.0</td>\n",
       "      <td>112300.0</td>\n",
       "      <td>1528.118235</td>\n",
       "      <td>Female</td>\n",
       "      <td>West</td>\n",
       "      <td>6.0</td>\n",
       "      <td>Clothing</td>\n",
       "      <td>28.893785</td>\n",
       "      <td>2021-04-21</td>\n",
       "      <td>2021-06-02</td>\n",
       "    </tr>\n",
       "    <tr>\n",
       "      <th>5</th>\n",
       "      <td>6</td>\n",
       "      <td>25.0</td>\n",
       "      <td>62000.0</td>\n",
       "      <td>1024.023200</td>\n",
       "      <td>Male</td>\n",
       "      <td>West</td>\n",
       "      <td>5.0</td>\n",
       "      <td>Home &amp; Garden</td>\n",
       "      <td>14.360273</td>\n",
       "      <td>2021-11-18</td>\n",
       "      <td>2023-07-06</td>\n",
       "    </tr>\n",
       "    <tr>\n",
       "      <th>6</th>\n",
       "      <td>7</td>\n",
       "      <td>78.0</td>\n",
       "      <td>90500.0</td>\n",
       "      <td>1283.045712</td>\n",
       "      <td>Female</td>\n",
       "      <td>East</td>\n",
       "      <td>27.0</td>\n",
       "      <td>Home &amp; Garden</td>\n",
       "      <td>48.221228</td>\n",
       "      <td>2022-06-11</td>\n",
       "      <td>2023-02-01</td>\n",
       "    </tr>\n",
       "    <tr>\n",
       "      <th>7</th>\n",
       "      <td>8</td>\n",
       "      <td>38.0</td>\n",
       "      <td>81000.0</td>\n",
       "      <td>1970.645619</td>\n",
       "      <td>Male</td>\n",
       "      <td>East</td>\n",
       "      <td>8.0</td>\n",
       "      <td>Clothing</td>\n",
       "      <td>70.952806</td>\n",
       "      <td>2021-06-26</td>\n",
       "      <td>2022-12-21</td>\n",
       "    </tr>\n",
       "    <tr>\n",
       "      <th>8</th>\n",
       "      <td>9</td>\n",
       "      <td>56.0</td>\n",
       "      <td>114300.0</td>\n",
       "      <td>1540.650762</td>\n",
       "      <td>Female</td>\n",
       "      <td>East</td>\n",
       "      <td>9.0</td>\n",
       "      <td>Clothing</td>\n",
       "      <td>61.240291</td>\n",
       "      <td>2022-11-05</td>\n",
       "      <td>2023-05-30</td>\n",
       "    </tr>\n",
       "    <tr>\n",
       "      <th>9</th>\n",
       "      <td>10</td>\n",
       "      <td>75.0</td>\n",
       "      <td>83600.0</td>\n",
       "      <td>880.035766</td>\n",
       "      <td>Female</td>\n",
       "      <td>West</td>\n",
       "      <td>15.0</td>\n",
       "      <td>Toys</td>\n",
       "      <td>95.110818</td>\n",
       "      <td>2022-07-05</td>\n",
       "      <td>2022-11-13</td>\n",
       "    </tr>\n",
       "    <tr>\n",
       "      <th>10</th>\n",
       "      <td>11</td>\n",
       "      <td>36.0</td>\n",
       "      <td>56300.0</td>\n",
       "      <td>903.955005</td>\n",
       "      <td>Male</td>\n",
       "      <td>North</td>\n",
       "      <td>36.0</td>\n",
       "      <td>Toys</td>\n",
       "      <td>81.777788</td>\n",
       "      <td>2022-06-22</td>\n",
       "      <td>2023-02-08</td>\n",
       "    </tr>\n",
       "    <tr>\n",
       "      <th>11</th>\n",
       "      <td>12</td>\n",
       "      <td>40.0</td>\n",
       "      <td>27800.0</td>\n",
       "      <td>1245.168713</td>\n",
       "      <td>Female</td>\n",
       "      <td>East</td>\n",
       "      <td>41.0</td>\n",
       "      <td>Health</td>\n",
       "      <td>86.897217</td>\n",
       "      <td>2022-09-16</td>\n",
       "      <td>2021-10-06</td>\n",
       "    </tr>\n",
       "    <tr>\n",
       "      <th>12</th>\n",
       "      <td>13</td>\n",
       "      <td>28.0</td>\n",
       "      <td>48100.0</td>\n",
       "      <td>1337.423113</td>\n",
       "      <td>Female</td>\n",
       "      <td>South</td>\n",
       "      <td>7.0</td>\n",
       "      <td>Health</td>\n",
       "      <td>54.166716</td>\n",
       "      <td>2022-04-18</td>\n",
       "      <td>2021-12-29</td>\n",
       "    </tr>\n",
       "    <tr>\n",
       "      <th>13</th>\n",
       "      <td>14</td>\n",
       "      <td>28.0</td>\n",
       "      <td>109600.0</td>\n",
       "      <td>1011.407633</td>\n",
       "      <td>Female</td>\n",
       "      <td>East</td>\n",
       "      <td>32.0</td>\n",
       "      <td>Home &amp; Garden</td>\n",
       "      <td>32.727519</td>\n",
       "      <td>2022-07-17</td>\n",
       "      <td>2022-08-24</td>\n",
       "    </tr>\n",
       "    <tr>\n",
       "      <th>14</th>\n",
       "      <td>15</td>\n",
       "      <td>41.0</td>\n",
       "      <td>96900.0</td>\n",
       "      <td>1296.825221</td>\n",
       "      <td>Male</td>\n",
       "      <td>South</td>\n",
       "      <td>8.0</td>\n",
       "      <td>Health</td>\n",
       "      <td>70.173601</td>\n",
       "      <td>2022-01-23</td>\n",
       "      <td>2021-10-21</td>\n",
       "    </tr>\n",
       "    <tr>\n",
       "      <th>15</th>\n",
       "      <td>16</td>\n",
       "      <td>70.0</td>\n",
       "      <td>103600.0</td>\n",
       "      <td>66.594339</td>\n",
       "      <td>Female</td>\n",
       "      <td>West</td>\n",
       "      <td>47.0</td>\n",
       "      <td>Health</td>\n",
       "      <td>43.905304</td>\n",
       "      <td>2021-04-08</td>\n",
       "      <td>2023-05-21</td>\n",
       "    </tr>\n",
       "    <tr>\n",
       "      <th>16</th>\n",
       "      <td>17</td>\n",
       "      <td>53.0</td>\n",
       "      <td>36600.0</td>\n",
       "      <td>870.653271</td>\n",
       "      <td>Male</td>\n",
       "      <td>South</td>\n",
       "      <td>15.0</td>\n",
       "      <td>Electronics</td>\n",
       "      <td>28.775424</td>\n",
       "      <td>2022-02-15</td>\n",
       "      <td>2021-03-14</td>\n",
       "    </tr>\n",
       "    <tr>\n",
       "      <th>17</th>\n",
       "      <td>18</td>\n",
       "      <td>57.0</td>\n",
       "      <td>108400.0</td>\n",
       "      <td>572.297391</td>\n",
       "      <td>Male</td>\n",
       "      <td>East</td>\n",
       "      <td>37.0</td>\n",
       "      <td>Clothing</td>\n",
       "      <td>15.227069</td>\n",
       "      <td>2022-01-10</td>\n",
       "      <td>2021-09-16</td>\n",
       "    </tr>\n",
       "    <tr>\n",
       "      <th>18</th>\n",
       "      <td>19</td>\n",
       "      <td>41.0</td>\n",
       "      <td>114500.0</td>\n",
       "      <td>275.765402</td>\n",
       "      <td>Female</td>\n",
       "      <td>East</td>\n",
       "      <td>19.0</td>\n",
       "      <td>Toys</td>\n",
       "      <td>52.787421</td>\n",
       "      <td>2021-06-19</td>\n",
       "      <td>2021-12-22</td>\n",
       "    </tr>\n",
       "    <tr>\n",
       "      <th>19</th>\n",
       "      <td>20</td>\n",
       "      <td>20.0</td>\n",
       "      <td>64900.0</td>\n",
       "      <td>217.102095</td>\n",
       "      <td>Male</td>\n",
       "      <td>North</td>\n",
       "      <td>39.0</td>\n",
       "      <td>Health</td>\n",
       "      <td>59.425357</td>\n",
       "      <td>2021-02-25</td>\n",
       "      <td>2022-07-25</td>\n",
       "    </tr>\n",
       "    <tr>\n",
       "      <th>20</th>\n",
       "      <td>21</td>\n",
       "      <td>39.0</td>\n",
       "      <td>30200.0</td>\n",
       "      <td>1214.320488</td>\n",
       "      <td>Female</td>\n",
       "      <td>West</td>\n",
       "      <td>6.0</td>\n",
       "      <td>Toys</td>\n",
       "      <td>56.878568</td>\n",
       "      <td>2021-11-21</td>\n",
       "      <td>2022-07-27</td>\n",
       "    </tr>\n",
       "    <tr>\n",
       "      <th>21</th>\n",
       "      <td>22</td>\n",
       "      <td>70.0</td>\n",
       "      <td>68400.0</td>\n",
       "      <td>1056.729083</td>\n",
       "      <td>Male</td>\n",
       "      <td>South</td>\n",
       "      <td>19.0</td>\n",
       "      <td>Health</td>\n",
       "      <td>11.654836</td>\n",
       "      <td>2022-10-20</td>\n",
       "      <td>2023-03-28</td>\n",
       "    </tr>\n",
       "    <tr>\n",
       "      <th>22</th>\n",
       "      <td>23</td>\n",
       "      <td>19.0</td>\n",
       "      <td>29900.0</td>\n",
       "      <td>522.096552</td>\n",
       "      <td>Female</td>\n",
       "      <td>West</td>\n",
       "      <td>28.0</td>\n",
       "      <td>Health</td>\n",
       "      <td>56.998732</td>\n",
       "      <td>2021-09-17</td>\n",
       "      <td>2023-12-30</td>\n",
       "    </tr>\n",
       "    <tr>\n",
       "      <th>23</th>\n",
       "      <td>24</td>\n",
       "      <td>41.0</td>\n",
       "      <td>90100.0</td>\n",
       "      <td>952.481116</td>\n",
       "      <td>Male</td>\n",
       "      <td>East</td>\n",
       "      <td>17.0</td>\n",
       "      <td>Home &amp; Garden</td>\n",
       "      <td>16.841411</td>\n",
       "      <td>2022-10-03</td>\n",
       "      <td>2022-03-23</td>\n",
       "    </tr>\n",
       "    <tr>\n",
       "      <th>24</th>\n",
       "      <td>25</td>\n",
       "      <td>61.0</td>\n",
       "      <td>84100.0</td>\n",
       "      <td>994.619984</td>\n",
       "      <td>Female</td>\n",
       "      <td>North</td>\n",
       "      <td>42.0</td>\n",
       "      <td>Electronics</td>\n",
       "      <td>66.371417</td>\n",
       "      <td>2022-07-16</td>\n",
       "      <td>2023-02-22</td>\n",
       "    </tr>\n",
       "  </tbody>\n",
       "</table>\n",
       "</div>"
      ],
      "text/plain": [
       "    customer_id   age    income  purchase_amount  gender region  \\\n",
       "0             1  56.0   67700.0      1019.145669  Female  South   \n",
       "1             2  69.0   50200.0       252.214693    Male  North   \n",
       "2             3  46.0   84000.0       354.742321    Male   East   \n",
       "3             4  32.0   42700.0       716.573913    Male   West   \n",
       "4             5  60.0  112300.0      1528.118235  Female   West   \n",
       "5             6  25.0   62000.0      1024.023200    Male   West   \n",
       "6             7  78.0   90500.0      1283.045712  Female   East   \n",
       "7             8  38.0   81000.0      1970.645619    Male   East   \n",
       "8             9  56.0  114300.0      1540.650762  Female   East   \n",
       "9            10  75.0   83600.0       880.035766  Female   West   \n",
       "10           11  36.0   56300.0       903.955005    Male  North   \n",
       "11           12  40.0   27800.0      1245.168713  Female   East   \n",
       "12           13  28.0   48100.0      1337.423113  Female  South   \n",
       "13           14  28.0  109600.0      1011.407633  Female   East   \n",
       "14           15  41.0   96900.0      1296.825221    Male  South   \n",
       "15           16  70.0  103600.0        66.594339  Female   West   \n",
       "16           17  53.0   36600.0       870.653271    Male  South   \n",
       "17           18  57.0  108400.0       572.297391    Male   East   \n",
       "18           19  41.0  114500.0       275.765402  Female   East   \n",
       "19           20  20.0   64900.0       217.102095    Male  North   \n",
       "20           21  39.0   30200.0      1214.320488  Female   West   \n",
       "21           22  70.0   68400.0      1056.729083    Male  South   \n",
       "22           23  19.0   29900.0       522.096552  Female   West   \n",
       "23           24  41.0   90100.0       952.481116    Male   East   \n",
       "24           25  61.0   84100.0       994.619984  Female  North   \n",
       "\n",
       "    total_purchases preferred_product_category  customer_loyalty_score  \\\n",
       "0              31.0                       Toys               12.501082   \n",
       "1              27.0                       Toys               14.402036   \n",
       "2              25.0                   Clothing               89.085761   \n",
       "3               5.0                Electronics               98.800804   \n",
       "4               6.0                   Clothing               28.893785   \n",
       "5               5.0              Home & Garden               14.360273   \n",
       "6              27.0              Home & Garden               48.221228   \n",
       "7               8.0                   Clothing               70.952806   \n",
       "8               9.0                   Clothing               61.240291   \n",
       "9              15.0                       Toys               95.110818   \n",
       "10             36.0                       Toys               81.777788   \n",
       "11             41.0                     Health               86.897217   \n",
       "12              7.0                     Health               54.166716   \n",
       "13             32.0              Home & Garden               32.727519   \n",
       "14              8.0                     Health               70.173601   \n",
       "15             47.0                     Health               43.905304   \n",
       "16             15.0                Electronics               28.775424   \n",
       "17             37.0                   Clothing               15.227069   \n",
       "18             19.0                       Toys               52.787421   \n",
       "19             39.0                     Health               59.425357   \n",
       "20              6.0                       Toys               56.878568   \n",
       "21             19.0                     Health               11.654836   \n",
       "22             28.0                     Health               56.998732   \n",
       "23             17.0              Home & Garden               16.841411   \n",
       "24             42.0                Electronics               66.371417   \n",
       "\n",
       "   signup_date last_purchase_date  \n",
       "0   2022-05-01         2022-02-27  \n",
       "1   2022-03-14         2022-07-03  \n",
       "2   2022-07-17         2022-04-13  \n",
       "3   2022-07-09         2021-04-21  \n",
       "4   2021-04-21         2021-06-02  \n",
       "5   2021-11-18         2023-07-06  \n",
       "6   2022-06-11         2023-02-01  \n",
       "7   2021-06-26         2022-12-21  \n",
       "8   2022-11-05         2023-05-30  \n",
       "9   2022-07-05         2022-11-13  \n",
       "10  2022-06-22         2023-02-08  \n",
       "11  2022-09-16         2021-10-06  \n",
       "12  2022-04-18         2021-12-29  \n",
       "13  2022-07-17         2022-08-24  \n",
       "14  2022-01-23         2021-10-21  \n",
       "15  2021-04-08         2023-05-21  \n",
       "16  2022-02-15         2021-03-14  \n",
       "17  2022-01-10         2021-09-16  \n",
       "18  2021-06-19         2021-12-22  \n",
       "19  2021-02-25         2022-07-25  \n",
       "20  2021-11-21         2022-07-27  \n",
       "21  2022-10-20         2023-03-28  \n",
       "22  2021-09-17         2023-12-30  \n",
       "23  2022-10-03         2022-03-23  \n",
       "24  2022-07-16         2023-02-22  "
      ]
     },
     "execution_count": 71,
     "metadata": {},
     "output_type": "execute_result"
    }
   ],
   "source": []
  },
  {
   "cell_type": "code",
   "execution_count": null,
   "id": "41def476",
   "metadata": {},
   "outputs": [],
   "source": []
  }
 ],
 "metadata": {
  "kernelspec": {
   "display_name": "base",
   "language": "python",
   "name": "python3"
  },
  "language_info": {
   "codemirror_mode": {
    "name": "ipython",
    "version": 3
   },
   "file_extension": ".py",
   "mimetype": "text/x-python",
   "name": "python",
   "nbconvert_exporter": "python",
   "pygments_lexer": "ipython3",
   "version": "3.13.5"
  }
 },
 "nbformat": 4,
 "nbformat_minor": 5
}
