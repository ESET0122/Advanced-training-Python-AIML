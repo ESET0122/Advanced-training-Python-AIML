{
 "cells": [
  {
   "cell_type": "markdown",
   "id": "4103de14-7270-4f3f-bde2-500bda399a23",
   "metadata": {},
   "source": [
    "# Task\n",
    "## 1. Write a python program to find the frequcy of each word in a given paragraph"
   ]
  },
  {
   "cell_type": "code",
   "execution_count": 67,
   "id": "e238a99e-32aa-4076-b687-33405ec9927c",
   "metadata": {},
   "outputs": [
    {
     "name": "stdout",
     "output_type": "stream",
     "text": [
      "{'create': 1, 'a': 1, 'list': 2, 'of': 2, 'tuples': 1, 'containing': 1, 'student': 1, 'names': 1, 'and': 1, 'marks.': 1, 'sort': 1, 'the': 1, 'in': 1, 'desending': 1, 'order': 1, 'marks': 1, 'using': 1, 'lambda': 1}\n"
     ]
    }
   ],
   "source": [
    "paragraph = 'Create a list of tuples containing student names and marks. sort the list in desending order of marks using lambda'\n",
    "def freq_finder(str):\n",
    "    str = str.lower()\n",
    "    list_str = str.split()\n",
    "    freq = {}\n",
    "    for word in list_str:\n",
    "        freq[word] = freq.get(word,0)+1\n",
    "    print(freq)\n",
    "freq_finder(paragraph)"
   ]
  },
  {
   "cell_type": "markdown",
   "id": "89890742-c822-470a-9449-57caaf36a8c0",
   "metadata": {},
   "source": [
    "## 2. Create a list of tuples containg student names and marks. sort the list in desending order of marks using lambda"
   ]
  },
  {
   "cell_type": "code",
   "execution_count": 66,
   "id": "3a0e8f04-6b74-4dda-8bc3-bf51782183c9",
   "metadata": {},
   "outputs": [
    {
     "name": "stdout",
     "output_type": "stream",
     "text": [
      "[('Saurabh', 111), ('Gopal', 105), ('Shubham', 101), ('RRC', 100)]\n"
     ]
    }
   ],
   "source": [
    "records = [('Gopal',105),('RRC',100),('Shubham',101),('Saurabh',111)]\n",
    "records.sort(key = lambda x : x[1],reverse = True)\n",
    "print(records)\n"
   ]
  },
  {
   "cell_type": "markdown",
   "id": "ee4683ba-9bb0-4b2b-9bb3-6e02a84a02fd",
   "metadata": {},
   "source": [
    "## 3. Write a program to flatten a nested list using recursion"
   ]
  },
  {
   "cell_type": "code",
   "execution_count": 51,
   "id": "9460b0f2-c770-4f98-b91b-c7d91eaf5e75",
   "metadata": {},
   "outputs": [
    {
     "name": "stdout",
     "output_type": "stream",
     "text": [
      "[1, 2, 4, 5, 6, 3, 8]\n"
     ]
    }
   ],
   "source": [
    "l = [1,2,[4,[5,6],3],8]\n",
    "new_list = []\n",
    "def flatten(l,ind):\n",
    "    if ind == len(l):\n",
    "        return\n",
    "    if isinstance(l[ind],list):\n",
    "        flatten(l[ind],0)\n",
    "    else:\n",
    "        new_list.append(l[ind])\n",
    "    flatten(l,ind+1)\n",
    "flatten(l,0)\n",
    "print(new_list)\n",
    "    \n",
    "    \n",
    "    \n"
   ]
  }
 ],
 "metadata": {
  "kernelspec": {
   "display_name": "Python 3 (ipykernel)",
   "language": "python",
   "name": "python3"
  },
  "language_info": {
   "codemirror_mode": {
    "name": "ipython",
    "version": 3
   },
   "file_extension": ".py",
   "mimetype": "text/x-python",
   "name": "python",
   "nbconvert_exporter": "python",
   "pygments_lexer": "ipython3",
   "version": "3.13.5"
  }
 },
 "nbformat": 4,
 "nbformat_minor": 5
}
