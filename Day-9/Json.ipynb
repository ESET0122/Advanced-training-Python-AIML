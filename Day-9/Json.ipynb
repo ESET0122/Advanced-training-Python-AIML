{
 "cells": [
  {
   "cell_type": "code",
   "execution_count": 1,
   "id": "702d5f2f-9bd1-4618-b32c-0e5456328e7e",
   "metadata": {},
   "outputs": [],
   "source": [
    "import numpy as np\n",
    "import matplotlib.pyplot as plt\n",
    "import seaborn as sns\n",
    "import pandas as pd"
   ]
  },
  {
   "cell_type": "code",
   "execution_count": 14,
   "id": "66940d7f-f2a0-401a-8054-96a28c3f7b6f",
   "metadata": {},
   "outputs": [],
   "source": [
    "import json\n",
    "\n",
    "# Load the JSON file\n",
    "with open('D:\\Advanced-training-Python-AIML\\datasets/file.json', 'r') as f:\n",
    "    data = json.load(f)"
   ]
  },
  {
   "cell_type": "code",
   "execution_count": 9,
   "id": "cd83d5ff-beb4-46ad-9b70-b7d47969ef66",
   "metadata": {},
   "outputs": [],
   "source": [
    "df=pd.read_json('D:\\Advanced-training-Python-AIML\\datasets/file.json')\n"
   ]
  },
  {
   "cell_type": "code",
   "execution_count": 19,
   "id": "fb0dc790-ab18-465a-8eee-fe9f0aacc7a2",
   "metadata": {},
   "outputs": [
    {
     "data": {
      "text/plain": [
       "Index(['productId', 'productName', 'description', 'brand', 'category', 'price',\n",
       "       'currency', 'stock', 'images', 'variants', 'dimensions', 'ratings',\n",
       "       'reviews'],\n",
       "      dtype='object')"
      ]
     },
     "execution_count": 19,
     "metadata": {},
     "output_type": "execute_result"
    }
   ],
   "source": [
    "df.columns"
   ]
  },
  {
   "cell_type": "code",
   "execution_count": 11,
   "id": "151b57c6-b673-4be6-b5c1-285d47aec642",
   "metadata": {},
   "outputs": [
    {
     "data": {
      "text/plain": [
       "0     {'available': True, 'quantity': 50}\n",
       "1    {'available': True, 'quantity': 200}\n",
       "2     {'available': True, 'quantity': 30}\n",
       "3    {'available': True, 'quantity': 100}\n",
       "4     {'available': True, 'quantity': 80}\n",
       "Name: stock, dtype: object"
      ]
     },
     "execution_count": 11,
     "metadata": {},
     "output_type": "execute_result"
    }
   ],
   "source": [
    "df['stock']"
   ]
  },
  {
   "cell_type": "code",
   "execution_count": 12,
   "id": "c5c00bf8-a4e5-4467-a314-65287b368b37",
   "metadata": {},
   "outputs": [
    {
     "data": {
      "text/plain": [
       "0    [{'variantId': '1001_01', 'color': 'Black', 'p...\n",
       "1    [{'variantId': '1002_01', 'color': 'Black', 'p...\n",
       "2    [{'variantId': '1003_01', 'screenSize': '55 in...\n",
       "3    [{'variantId': '1004_01', 'color': 'Red', 'pri...\n",
       "4    [{'variantId': '1005_01', 'size': 'M', 'color'...\n",
       "Name: variants, dtype: object"
      ]
     },
     "execution_count": 12,
     "metadata": {},
     "output_type": "execute_result"
    }
   ],
   "source": [
    "df['variants']"
   ]
  },
  {
   "cell_type": "code",
   "execution_count": 15,
   "id": "c6ed8344-34ba-4d76-a9eb-7783267554d1",
   "metadata": {},
   "outputs": [],
   "source": [
    "df_products = pd.json_normalize(data, sep='_')"
   ]
  },
  {
   "cell_type": "code",
   "execution_count": 20,
   "id": "00418144-efaa-4b04-b190-23253df7f0c5",
   "metadata": {},
   "outputs": [
    {
     "data": {
      "text/plain": [
       "Index(['productId', 'productName', 'description', 'brand', 'category', 'price',\n",
       "       'currency', 'images', 'variants', 'reviews', 'stock_available',\n",
       "       'stock_quantity', 'dimensions_weight', 'dimensions_width',\n",
       "       'dimensions_height', 'dimensions_depth', 'ratings_averageRating',\n",
       "       'ratings_numberOfReviews'],\n",
       "      dtype='object')"
      ]
     },
     "execution_count": 20,
     "metadata": {},
     "output_type": "execute_result"
    }
   ],
   "source": [
    "df_products.head()\n",
    "df_products.shape\n",
    "df_products.columns"
   ]
  },
  {
   "cell_type": "code",
   "execution_count": 21,
   "id": "7f0f9d95-28f6-49d9-81b1-6810ff33373f",
   "metadata": {},
   "outputs": [
    {
     "data": {
      "text/plain": [
       "0    {'weight': '0.5kg', 'width': '18cm', 'height':...\n",
       "1    {'weight': '0.2kg', 'width': '8cm', 'height': ...\n",
       "2    {'weight': '15kg', 'width': '123cm', 'height':...\n",
       "3    {'weight': '0.3kg', 'width': '15cm', 'height':...\n",
       "4    {'weight': '1.5kg', 'width': '60cm', 'height':...\n",
       "Name: dimensions, dtype: object"
      ]
     },
     "execution_count": 21,
     "metadata": {},
     "output_type": "execute_result"
    }
   ],
   "source": [
    "df['dimensions']"
   ]
  },
  {
   "cell_type": "code",
   "execution_count": 22,
   "id": "8cebc02b-2b27-4a06-b91b-356ca2ceecbb",
   "metadata": {},
   "outputs": [
    {
     "data": {
      "text/html": [
       "<div>\n",
       "<style scoped>\n",
       "    .dataframe tbody tr th:only-of-type {\n",
       "        vertical-align: middle;\n",
       "    }\n",
       "\n",
       "    .dataframe tbody tr th {\n",
       "        vertical-align: top;\n",
       "    }\n",
       "\n",
       "    .dataframe thead th {\n",
       "        text-align: right;\n",
       "    }\n",
       "</style>\n",
       "<table border=\"1\" class=\"dataframe\">\n",
       "  <thead>\n",
       "    <tr style=\"text-align: right;\">\n",
       "      <th></th>\n",
       "      <th>productId</th>\n",
       "      <th>productName</th>\n",
       "      <th>description</th>\n",
       "      <th>brand</th>\n",
       "      <th>category</th>\n",
       "      <th>price</th>\n",
       "      <th>currency</th>\n",
       "      <th>images</th>\n",
       "      <th>variants</th>\n",
       "      <th>reviews</th>\n",
       "      <th>stock_available</th>\n",
       "      <th>stock_quantity</th>\n",
       "      <th>dimensions_weight</th>\n",
       "      <th>dimensions_width</th>\n",
       "      <th>dimensions_height</th>\n",
       "      <th>dimensions_depth</th>\n",
       "      <th>ratings_averageRating</th>\n",
       "      <th>ratings_numberOfReviews</th>\n",
       "    </tr>\n",
       "  </thead>\n",
       "  <tbody>\n",
       "    <tr>\n",
       "      <th>0</th>\n",
       "      <td>1001</td>\n",
       "      <td>Wireless Headphones</td>\n",
       "      <td>Noise-cancelling wireless headphones with Blue...</td>\n",
       "      <td>SoundPro</td>\n",
       "      <td>Electronics</td>\n",
       "      <td>199.99</td>\n",
       "      <td>USD</td>\n",
       "      <td>[https://example.com/products/1001/main.jpg, h...</td>\n",
       "      <td>[{'variantId': '1001_01', 'color': 'Black', 'p...</td>\n",
       "      <td>[{'reviewId': 501, 'userId': 101, 'username': ...</td>\n",
       "      <td>True</td>\n",
       "      <td>50</td>\n",
       "      <td>0.5kg</td>\n",
       "      <td>18cm</td>\n",
       "      <td>20cm</td>\n",
       "      <td>8cm</td>\n",
       "      <td>4.7</td>\n",
       "      <td>120</td>\n",
       "    </tr>\n",
       "    <tr>\n",
       "      <th>1</th>\n",
       "      <td>1002</td>\n",
       "      <td>Smartphone Case</td>\n",
       "      <td>Durable and shockproof case for smartphones, a...</td>\n",
       "      <td>CaseMate</td>\n",
       "      <td>Accessories</td>\n",
       "      <td>29.99</td>\n",
       "      <td>USD</td>\n",
       "      <td>[https://example.com/products/1002/main.jpg, h...</td>\n",
       "      <td>[{'variantId': '1002_01', 'color': 'Black', 'p...</td>\n",
       "      <td>[{'reviewId': 601, 'userId': 103, 'username': ...</td>\n",
       "      <td>True</td>\n",
       "      <td>200</td>\n",
       "      <td>0.2kg</td>\n",
       "      <td>8cm</td>\n",
       "      <td>15cm</td>\n",
       "      <td>1cm</td>\n",
       "      <td>4.4</td>\n",
       "      <td>80</td>\n",
       "    </tr>\n",
       "    <tr>\n",
       "      <th>2</th>\n",
       "      <td>1003</td>\n",
       "      <td>4K Ultra HD Smart TV</td>\n",
       "      <td>55-inch 4K Ultra HD Smart TV with built-in Wi-...</td>\n",
       "      <td>Visionary</td>\n",
       "      <td>Electronics</td>\n",
       "      <td>799.99</td>\n",
       "      <td>USD</td>\n",
       "      <td>[https://example.com/products/1003/main.jpg, h...</td>\n",
       "      <td>[{'variantId': '1003_01', 'screenSize': '55 in...</td>\n",
       "      <td>[{'reviewId': 701, 'userId': 105, 'username': ...</td>\n",
       "      <td>True</td>\n",
       "      <td>30</td>\n",
       "      <td>15kg</td>\n",
       "      <td>123cm</td>\n",
       "      <td>80cm</td>\n",
       "      <td>10cm</td>\n",
       "      <td>4.8</td>\n",
       "      <td>250</td>\n",
       "    </tr>\n",
       "    <tr>\n",
       "      <th>3</th>\n",
       "      <td>1004</td>\n",
       "      <td>Bluetooth Speaker</td>\n",
       "      <td>Portable Bluetooth speaker with 12-hour batter...</td>\n",
       "      <td>AudioX</td>\n",
       "      <td>Electronics</td>\n",
       "      <td>59.99</td>\n",
       "      <td>USD</td>\n",
       "      <td>[https://example.com/products/1004/main.jpg, h...</td>\n",
       "      <td>[{'variantId': '1004_01', 'color': 'Red', 'pri...</td>\n",
       "      <td>[{'reviewId': 801, 'userId': 107, 'username': ...</td>\n",
       "      <td>True</td>\n",
       "      <td>100</td>\n",
       "      <td>0.3kg</td>\n",
       "      <td>15cm</td>\n",
       "      <td>8cm</td>\n",
       "      <td>5cm</td>\n",
       "      <td>4.6</td>\n",
       "      <td>150</td>\n",
       "    </tr>\n",
       "    <tr>\n",
       "      <th>4</th>\n",
       "      <td>1005</td>\n",
       "      <td>Winter Jacket</td>\n",
       "      <td>Men's water-resistant winter jacket with a fur...</td>\n",
       "      <td>ColdTech</td>\n",
       "      <td>Clothing</td>\n",
       "      <td>129.99</td>\n",
       "      <td>USD</td>\n",
       "      <td>[https://example.com/products/1005/main.jpg, h...</td>\n",
       "      <td>[{'variantId': '1005_01', 'size': 'M', 'color'...</td>\n",
       "      <td>[{'reviewId': 901, 'userId': 109, 'username': ...</td>\n",
       "      <td>True</td>\n",
       "      <td>80</td>\n",
       "      <td>1.5kg</td>\n",
       "      <td>60cm</td>\n",
       "      <td>85cm</td>\n",
       "      <td>5cm</td>\n",
       "      <td>4.5</td>\n",
       "      <td>60</td>\n",
       "    </tr>\n",
       "  </tbody>\n",
       "</table>\n",
       "</div>"
      ],
      "text/plain": [
       "   productId           productName  \\\n",
       "0       1001   Wireless Headphones   \n",
       "1       1002       Smartphone Case   \n",
       "2       1003  4K Ultra HD Smart TV   \n",
       "3       1004     Bluetooth Speaker   \n",
       "4       1005         Winter Jacket   \n",
       "\n",
       "                                         description      brand     category  \\\n",
       "0  Noise-cancelling wireless headphones with Blue...   SoundPro  Electronics   \n",
       "1  Durable and shockproof case for smartphones, a...   CaseMate  Accessories   \n",
       "2  55-inch 4K Ultra HD Smart TV with built-in Wi-...  Visionary  Electronics   \n",
       "3  Portable Bluetooth speaker with 12-hour batter...     AudioX  Electronics   \n",
       "4  Men's water-resistant winter jacket with a fur...   ColdTech     Clothing   \n",
       "\n",
       "    price currency                                             images  \\\n",
       "0  199.99      USD  [https://example.com/products/1001/main.jpg, h...   \n",
       "1   29.99      USD  [https://example.com/products/1002/main.jpg, h...   \n",
       "2  799.99      USD  [https://example.com/products/1003/main.jpg, h...   \n",
       "3   59.99      USD  [https://example.com/products/1004/main.jpg, h...   \n",
       "4  129.99      USD  [https://example.com/products/1005/main.jpg, h...   \n",
       "\n",
       "                                            variants  \\\n",
       "0  [{'variantId': '1001_01', 'color': 'Black', 'p...   \n",
       "1  [{'variantId': '1002_01', 'color': 'Black', 'p...   \n",
       "2  [{'variantId': '1003_01', 'screenSize': '55 in...   \n",
       "3  [{'variantId': '1004_01', 'color': 'Red', 'pri...   \n",
       "4  [{'variantId': '1005_01', 'size': 'M', 'color'...   \n",
       "\n",
       "                                             reviews  stock_available  \\\n",
       "0  [{'reviewId': 501, 'userId': 101, 'username': ...             True   \n",
       "1  [{'reviewId': 601, 'userId': 103, 'username': ...             True   \n",
       "2  [{'reviewId': 701, 'userId': 105, 'username': ...             True   \n",
       "3  [{'reviewId': 801, 'userId': 107, 'username': ...             True   \n",
       "4  [{'reviewId': 901, 'userId': 109, 'username': ...             True   \n",
       "\n",
       "   stock_quantity dimensions_weight dimensions_width dimensions_height  \\\n",
       "0              50             0.5kg             18cm              20cm   \n",
       "1             200             0.2kg              8cm              15cm   \n",
       "2              30              15kg            123cm              80cm   \n",
       "3             100             0.3kg             15cm               8cm   \n",
       "4              80             1.5kg             60cm              85cm   \n",
       "\n",
       "  dimensions_depth  ratings_averageRating  ratings_numberOfReviews  \n",
       "0              8cm                    4.7                      120  \n",
       "1              1cm                    4.4                       80  \n",
       "2             10cm                    4.8                      250  \n",
       "3              5cm                    4.6                      150  \n",
       "4              5cm                    4.5                       60  "
      ]
     },
     "execution_count": 22,
     "metadata": {},
     "output_type": "execute_result"
    }
   ],
   "source": [
    "df_products.head()"
   ]
  },
  {
   "cell_type": "code",
   "execution_count": 23,
   "id": "efad7b0a-1535-4497-aaee-68c180547ca1",
   "metadata": {},
   "outputs": [
    {
     "data": {
      "text/plain": [
       "[{'variantId': '1001_01',\n",
       "  'color': 'Black',\n",
       "  'price': 199.99,\n",
       "  'stockQuantity': 20},\n",
       " {'variantId': '1001_02',\n",
       "  'color': 'White',\n",
       "  'price': 199.99,\n",
       "  'stockQuantity': 30}]"
      ]
     },
     "execution_count": 23,
     "metadata": {},
     "output_type": "execute_result"
    }
   ],
   "source": [
    "df_products['variants'][0]"
   ]
  },
  {
   "cell_type": "code",
   "execution_count": 24,
   "id": "db0e2628-70d0-412d-96b6-ae07e20c1ae8",
   "metadata": {},
   "outputs": [
    {
     "data": {
      "text/plain": [
       "[{'reviewId': 501,\n",
       "  'userId': 101,\n",
       "  'username': 'techguy123',\n",
       "  'rating': 5,\n",
       "  'comment': 'Amazing sound quality and battery life!'},\n",
       " {'reviewId': 502,\n",
       "  'userId': 102,\n",
       "  'username': 'jane_doe',\n",
       "  'rating': 4,\n",
       "  'comment': 'Great headphones but a bit pricey.'}]"
      ]
     },
     "execution_count": 24,
     "metadata": {},
     "output_type": "execute_result"
    }
   ],
   "source": [
    "df_products['reviews'][0]"
   ]
  },
  {
   "cell_type": "code",
   "execution_count": 25,
   "id": "bfcae931-a4ef-4236-8cbb-3296e3cbdae9",
   "metadata": {},
   "outputs": [],
   "source": [
    "# Example for extracting variants\n",
    "variants = pd.json_normalize(data, record_path=['variants'], meta=['productId'], sep='_')\n",
    "reviews = pd.json_normalize(data, record_path=['reviews'], meta=['productId'], sep='_')\n"
   ]
  },
  {
   "cell_type": "code",
   "execution_count": 31,
   "id": "d65240ee-1a50-4d3d-8ecb-aeb40fe37c8a",
   "metadata": {},
   "outputs": [
    {
     "data": {
      "image/png": "[encoded data removed]",
      "text/plain": [
       "<Figure size 640x480 with 1 Axes>"
      ]
     },
     "metadata": {},
     "output_type": "display_data"
    },
    {
     "data": {
      "image/png": "[encoded data removed]",
      "text/plain": [
       "<Figure size 640x480 with 1 Axes>"
      ]
     },
     "metadata": {},
     "output_type": "display_data"
    },
    {
     "data": {
      "image/png": "[encoded data removed]",
      "text/plain": [
       "<Figure size 1500x800 with 1 Axes>"
      ]
     },
     "metadata": {},
     "output_type": "display_data"
    }
   ],
   "source": [
    "# Bar plot: Compare price by category\n",
    "sns.barplot(x='category', y='price', data=df_products)\n",
    "plt.show()\n",
    "\n",
    "# Pie chart: Product category distribution\n",
    "df_products['category'].value_counts().plot.pie()\n",
    "plt.show()\n",
    "\n",
    "# Scatter plot: Price vs. average rating\n",
    "plt.figure(figsize = (15,8) )\n",
    "sns.scatterplot(x='productName', y='ratings_averageRating', data=df_products)\n",
    "plt.show()\n"
   ]
  },
  {
   "cell_type": "code",
   "execution_count": null,
   "id": "82fd4ffd-0355-4c91-9d0f-21419ec24b6d",
   "metadata": {},
   "outputs": [],
   "source": []
  }
 ],
 "metadata": {
  "kernelspec": {
   "display_name": "Python 3 (ipykernel)",
   "language": "python",
   "name": "python3"
  },
  "language_info": {
   "codemirror_mode": {
    "name": "ipython",
    "version": 3
   },
   "file_extension": ".py",
   "mimetype": "text/x-python",
   "name": "python",
   "nbconvert_exporter": "python",
   "pygments_lexer": "ipython3",
   "version": "3.13.5"
  }
 },
 "nbformat": 4,
 "nbformat_minor": 5
}
