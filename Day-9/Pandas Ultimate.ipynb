{
 "cells": [
  {
   "cell_type": "code",
   "execution_count": 1,
   "id": "600fefd3-4e99-4707-9c59-2edbb5a3e2eb",
   "metadata": {},
   "outputs": [
    {
     "data": {
      "text/html": [
       "<div>\n",
       "<style scoped>\n",
       "    .dataframe tbody tr th:only-of-type {\n",
       "        vertical-align: middle;\n",
       "    }\n",
       "\n",
       "    .dataframe tbody tr th {\n",
       "        vertical-align: top;\n",
       "    }\n",
       "\n",
       "    .dataframe thead th {\n",
       "        text-align: right;\n",
       "    }\n",
       "</style>\n",
       "<table border=\"1\" class=\"dataframe\">\n",
       "  <thead>\n",
       "    <tr style=\"text-align: right;\">\n",
       "      <th></th>\n",
       "      <th>time</th>\n",
       "      <th>letter</th>\n",
       "    </tr>\n",
       "  </thead>\n",
       "  <tbody>\n",
       "    <tr>\n",
       "      <th>1</th>\n",
       "      <td>2022-09-14 00:52:30-07:00</td>\n",
       "      <td>B</td>\n",
       "    </tr>\n",
       "    <tr>\n",
       "      <th>2</th>\n",
       "      <td>2022-09-14 01:52:30-07:00</td>\n",
       "      <td>C</td>\n",
       "    </tr>\n",
       "  </tbody>\n",
       "</table>\n",
       "</div>"
      ],
      "text/plain": [
       "                       time letter\n",
       "1 2022-09-14 00:52:30-07:00      B\n",
       "2 2022-09-14 01:52:30-07:00      C"
      ]
     },
     "execution_count": 1,
     "metadata": {},
     "output_type": "execute_result"
    }
   ],
   "source": [
    "import pandas as pd\n",
    "df = pd.DataFrame({\n",
    "  'time': ['2022-09-14 00:52:00-07:00', '2022-09-14 00:52:30-07:00',\n",
    "           '2022-09-14 01:52:30-07:00'],\n",
    "  'letter': ['A', 'B', 'C'],\n",
    "})\n",
    "df['time'] = pd.to_datetime(df.time)\n",
    " \n",
    "df.query('time >= \"2022-09-14 00:52:30-07:00\"')"
   ]
  },
  {
   "cell_type": "code",
   "execution_count": 3,
   "id": "cfff6b33-5045-4db8-8033-ab00d99f4cf1",
   "metadata": {},
   "outputs": [
    {
     "data": {
      "text/html": [
       "<div>\n",
       "<style scoped>\n",
       "    .dataframe tbody tr th:only-of-type {\n",
       "        vertical-align: middle;\n",
       "    }\n",
       "\n",
       "    .dataframe tbody tr th {\n",
       "        vertical-align: top;\n",
       "    }\n",
       "\n",
       "    .dataframe thead th {\n",
       "        text-align: right;\n",
       "    }\n",
       "</style>\n",
       "<table border=\"1\" class=\"dataframe\">\n",
       "  <thead>\n",
       "    <tr style=\"text-align: right;\">\n",
       "      <th></th>\n",
       "      <th>letter</th>\n",
       "    </tr>\n",
       "    <tr>\n",
       "      <th>time</th>\n",
       "      <th></th>\n",
       "    </tr>\n",
       "  </thead>\n",
       "  <tbody>\n",
       "    <tr>\n",
       "      <th>2022-09-14 00:52:00-07:00</th>\n",
       "      <td>A</td>\n",
       "    </tr>\n",
       "    <tr>\n",
       "      <th>2022-09-14 00:52:30-07:00</th>\n",
       "      <td>B</td>\n",
       "    </tr>\n",
       "  </tbody>\n",
       "</table>\n",
       "</div>"
      ],
      "text/plain": [
       "                          letter\n",
       "time                            \n",
       "2022-09-14 00:52:00-07:00      A\n",
       "2022-09-14 00:52:30-07:00      B"
      ]
     },
     "execution_count": 3,
     "metadata": {},
     "output_type": "execute_result"
    }
   ],
   "source": [
    "df.set_index('time',inplace=True)\n",
    "df.loc['2022-09-14':'2022-09-14 00:53']"
   ]
  },
  {
   "cell_type": "code",
   "execution_count": 5,
   "id": "4241b028-42ec-47d2-8631-faf86a4d17ad",
   "metadata": {},
   "outputs": [
    {
     "data": {
      "text/html": [
       "<div>\n",
       "<style scoped>\n",
       "    .dataframe tbody tr th:only-of-type {\n",
       "        vertical-align: middle;\n",
       "    }\n",
       "\n",
       "    .dataframe tbody tr th {\n",
       "        vertical-align: top;\n",
       "    }\n",
       "\n",
       "    .dataframe thead th {\n",
       "        text-align: right;\n",
       "    }\n",
       "</style>\n",
       "<table border=\"1\" class=\"dataframe\">\n",
       "  <thead>\n",
       "    <tr style=\"text-align: right;\">\n",
       "      <th></th>\n",
       "      <th>time</th>\n",
       "      <th>letter</th>\n",
       "    </tr>\n",
       "  </thead>\n",
       "  <tbody>\n",
       "    <tr>\n",
       "      <th>0</th>\n",
       "      <td>2022-09-14 00:52:00-07:00</td>\n",
       "      <td>A</td>\n",
       "    </tr>\n",
       "    <tr>\n",
       "      <th>1</th>\n",
       "      <td>2022-09-14 00:52:30-07:00</td>\n",
       "      <td>B</td>\n",
       "    </tr>\n",
       "  </tbody>\n",
       "</table>\n",
       "</div>"
      ],
      "text/plain": [
       "                       time letter\n",
       "0 2022-09-14 00:52:00-07:00      A\n",
       "1 2022-09-14 00:52:30-07:00      B"
      ]
     },
     "execution_count": 5,
     "metadata": {},
     "output_type": "execute_result"
    }
   ],
   "source": [
    "import pandas as pd\n",
    "df = pd.DataFrame({\n",
    "    'time': ['2022-09-14 00:52:00-07:00', '2022-09-14 00:52:30-07:00', \n",
    "             '2022-09-14 01:52:30-07:00'],\n",
    "    'letter': ['A', 'B', 'C'],\n",
    "})\n",
    "df['time'] = pd.to_datetime(df.time)\n",
    "\n",
    "def rows_in_time_range(df, time_column, start_ts_str, timedelta_str):\n",
    "    # Return rows from df, where start_ts < time_column <= start_ts + delta.\n",
    "    # start_ts_str can be a date '2022-09-01' or a time '2022-09-14 00:52:00-07:00'\n",
    "    # timedelta_str examples: '2 minutes' '2 days 2 hours 15 minutes 30 seconds'\n",
    "    start_ts = pd.Timestamp(start_ts_str).tz_localize('US/Pacific')\n",
    "    end_ts = start_ts + pd.to_timedelta(timedelta_str)\n",
    "    return df.query(\"@start_ts <= {0} < @end_ts\".format(time_column))\n",
    "\n",
    "rows_in_time_range(df, 'time', '2022-09-14 00:00', '52 minutes 31 seconds')\n"
   ]
  },
  {
   "cell_type": "markdown",
   "id": "7fa27c42-f8bf-4b7c-8ff7-bc5d5e50bb43",
   "metadata": {},
   "source": [
    "## Pandas DataFrame: Explode a column containing dictionary values into multiple columns"
   ]
  },
  {
   "cell_type": "code",
   "execution_count": 7,
   "id": "743e5310-00d3-4ded-9075-3d2fa77bea86",
   "metadata": {},
   "outputs": [
    {
     "data": {
      "text/html": [
       "<div>\n",
       "<style scoped>\n",
       "    .dataframe tbody tr th:only-of-type {\n",
       "        vertical-align: middle;\n",
       "    }\n",
       "\n",
       "    .dataframe tbody tr th {\n",
       "        vertical-align: top;\n",
       "    }\n",
       "\n",
       "    .dataframe thead th {\n",
       "        text-align: right;\n",
       "    }\n",
       "</style>\n",
       "<table border=\"1\" class=\"dataframe\">\n",
       "  <thead>\n",
       "    <tr style=\"text-align: right;\">\n",
       "      <th></th>\n",
       "      <th>date</th>\n",
       "      <th>letter</th>\n",
       "      <th>dict</th>\n",
       "    </tr>\n",
       "  </thead>\n",
       "  <tbody>\n",
       "    <tr>\n",
       "      <th>0</th>\n",
       "      <td>2022-09-14</td>\n",
       "      <td>A</td>\n",
       "      <td>{'fruit': 'apple', 'weather': 'aces'}</td>\n",
       "    </tr>\n",
       "    <tr>\n",
       "      <th>1</th>\n",
       "      <td>2022-09-15</td>\n",
       "      <td>B</td>\n",
       "      <td>{'fruit': 'banana', 'weather': 'bad'}</td>\n",
       "    </tr>\n",
       "    <tr>\n",
       "      <th>2</th>\n",
       "      <td>2022-09-16</td>\n",
       "      <td>C</td>\n",
       "      <td>{'fruit': 'cantaloupe', 'weather': 'cloudy'}</td>\n",
       "    </tr>\n",
       "  </tbody>\n",
       "</table>\n",
       "</div>"
      ],
      "text/plain": [
       "         date letter                                          dict\n",
       "0  2022-09-14      A         {'fruit': 'apple', 'weather': 'aces'}\n",
       "1  2022-09-15      B         {'fruit': 'banana', 'weather': 'bad'}\n",
       "2  2022-09-16      C  {'fruit': 'cantaloupe', 'weather': 'cloudy'}"
      ]
     },
     "execution_count": 7,
     "metadata": {},
     "output_type": "execute_result"
    }
   ],
   "source": [
    "import pandas as pd\n",
    "df = pd.DataFrame({\n",
    "  'date': ['2022-09-14', '2022-09-15', '2022-09-16'],\n",
    "  'letter': ['A', 'B', 'C'],\n",
    "  'dict' : [{ 'fruit': 'apple', 'weather': 'aces'},\n",
    "            { 'fruit': 'banana', 'weather': 'bad'},\n",
    "            { 'fruit': 'cantaloupe', 'weather': 'cloudy'}],\n",
    "})\n",
    "df"
   ]
  },
  {
   "cell_type": "code",
   "execution_count": 8,
   "id": "af0a0834-4072-4d07-9451-0133746e3393",
   "metadata": {},
   "outputs": [
    {
     "data": {
      "text/html": [
       "<div>\n",
       "<style scoped>\n",
       "    .dataframe tbody tr th:only-of-type {\n",
       "        vertical-align: middle;\n",
       "    }\n",
       "\n",
       "    .dataframe tbody tr th {\n",
       "        vertical-align: top;\n",
       "    }\n",
       "\n",
       "    .dataframe thead th {\n",
       "        text-align: right;\n",
       "    }\n",
       "</style>\n",
       "<table border=\"1\" class=\"dataframe\">\n",
       "  <thead>\n",
       "    <tr style=\"text-align: right;\">\n",
       "      <th></th>\n",
       "      <th>date</th>\n",
       "      <th>letter</th>\n",
       "      <th>fruit</th>\n",
       "      <th>weather</th>\n",
       "    </tr>\n",
       "  </thead>\n",
       "  <tbody>\n",
       "    <tr>\n",
       "      <th>0</th>\n",
       "      <td>2022-09-14</td>\n",
       "      <td>A</td>\n",
       "      <td>apple</td>\n",
       "      <td>aces</td>\n",
       "    </tr>\n",
       "    <tr>\n",
       "      <th>1</th>\n",
       "      <td>2022-09-15</td>\n",
       "      <td>B</td>\n",
       "      <td>banana</td>\n",
       "      <td>bad</td>\n",
       "    </tr>\n",
       "    <tr>\n",
       "      <th>2</th>\n",
       "      <td>2022-09-16</td>\n",
       "      <td>C</td>\n",
       "      <td>cantaloupe</td>\n",
       "      <td>cloudy</td>\n",
       "    </tr>\n",
       "  </tbody>\n",
       "</table>\n",
       "</div>"
      ],
      "text/plain": [
       "         date letter       fruit weather\n",
       "0  2022-09-14      A       apple    aces\n",
       "1  2022-09-15      B      banana     bad\n",
       "2  2022-09-16      C  cantaloupe  cloudy"
      ]
     },
     "execution_count": 8,
     "metadata": {},
     "output_type": "execute_result"
    }
   ],
   "source": [
    "\n",
    "pd.concat([df.drop(['dict'], axis=1), df['dict'].apply(pd.Series)], axis=1)"
   ]
  },
  {
   "cell_type": "code",
   "execution_count": null,
   "id": "feff7d50-b35e-49ea-8612-452e14249d51",
   "metadata": {},
   "outputs": [],
   "source": []
  }
 ],
 "metadata": {
  "kernelspec": {
   "display_name": "Python 3 (ipykernel)",
   "language": "python",
   "name": "python3"
  },
  "language_info": {
   "codemirror_mode": {
    "name": "ipython",
    "version": 3
   },
   "file_extension": ".py",
   "mimetype": "text/x-python",
   "name": "python",
   "nbconvert_exporter": "python",
   "pygments_lexer": "ipython3",
   "version": "3.13.5"
  }
 },
 "nbformat": 4,
 "nbformat_minor": 5
}
